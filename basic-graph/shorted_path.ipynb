{
 "cells": [
  {
   "cell_type": "code",
   "execution_count": 1,
   "metadata": {},
   "outputs": [],
   "source": [
    "import numpy as np"
   ]
  },
  {
   "cell_type": "code",
   "execution_count": 5,
   "metadata": {},
   "outputs": [
    {
     "name": "stdout",
     "output_type": "stream",
     "text": [
      "g1 shape: (4, 4)\n"
     ]
    }
   ],
   "source": [
    "# Prepare Graph\n",
    "g1 = np.array(\n",
    "    [\n",
    "        [1, 2, 3, 4],\n",
    "        [2, 1, 0, 0],\n",
    "        [3, 0, 1, 2],\n",
    "        [4, 0, 2, 1],\n",
    "    ]\n",
    ")\n",
    "print(\"g1 shape:\", g1.shape)\n",
    "\n"
   ]
  },
  {
   "cell_type": "code",
   "execution_count": 11,
   "metadata": {},
   "outputs": [
    {
     "name": "stdout",
     "output_type": "stream",
     "text": [
      "[[2 1 1 ... 0 2 1]\n",
      " [1 0 0 ... 0 2 1]\n",
      " [1 0 0 ... 2 2 2]\n",
      " ...\n",
      " [0 0 2 ... 0 2 1]\n",
      " [2 2 2 ... 2 2 2]\n",
      " [1 1 2 ... 1 2 2]]\n"
     ]
    }
   ],
   "source": [
    "a = np.random.randint(0, 2+1, size=(40, 40))\n",
    "m = np.tril(a) + np.tril(a, -1).T\n",
    "print(m)"
   ]
  },
  {
   "cell_type": "code",
   "execution_count": null,
   "metadata": {},
   "outputs": [],
   "source": []
  }
 ],
 "metadata": {
  "interpreter": {
   "hash": "586ad1ed5c97141e2437e681efbf1ec0adcd17d830cf5af2ca3d2819e743e158"
  },
  "kernelspec": {
   "display_name": "Python 3.8.8 ('base')",
   "language": "python",
   "name": "python3"
  },
  "language_info": {
   "codemirror_mode": {
    "name": "ipython",
    "version": 3
   },
   "file_extension": ".py",
   "mimetype": "text/x-python",
   "name": "python",
   "nbconvert_exporter": "python",
   "pygments_lexer": "ipython3",
   "version": "3.8.8"
  },
  "orig_nbformat": 4
 },
 "nbformat": 4,
 "nbformat_minor": 2
}
